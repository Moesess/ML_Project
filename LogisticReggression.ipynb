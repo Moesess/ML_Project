{
  "nbformat": 4,
  "nbformat_minor": 0,
  "metadata": {
    "colab": {
      "provenance": []
    },
    "kernelspec": {
      "name": "python3",
      "display_name": "Python 3"
    },
    "language_info": {
      "name": "python"
    }
  },
  "cells": [
    {
      "cell_type": "code",
      "execution_count": null,
      "metadata": {
        "id": "GVpxkuGyHzKM"
      },
      "outputs": [],
      "source": [
        "#Implementacja algorytmu Logistic regression\n",
        "import numpy as np\n",
        "\n",
        "\n",
        "def Sigmoidfunction(x):\n",
        "  return 1/(1+np.exp(-x))\n",
        "\n",
        "\n",
        "class LogisticRegression():\n",
        "\n",
        "  def __init__(self,learning_rate=0.001, number_of_iterations = 1000):\n",
        "    self.learning_rate = learning_rate\n",
        "    self.number_of_iterations = number_of_iterations\n",
        "    self.weights = None\n",
        "    self.bias = None\n",
        "\n",
        "  def fit(self, X, y):\n",
        "    number_of_samples, number_of_features = X.shape\n",
        "    self.weights = np.zeros(number_of_features)\n",
        "    self.bias = 0\n",
        "\n",
        "    for i in range(self.number_of_iterations):\n",
        "      linear_predictions = np.dot(X, self.weights) + self.bias\n",
        "      y_predictions = Sigmoidfunction(linear_predictions)\n",
        "\n",
        "      dw =(1/number_of_samples)* np.dot(X.transpose(),(y_predictions - y))\n",
        "      db = (1/number_of_samples)* np.sum(y_predictions - y)\n",
        "      self.weights = self.weights - self.learning_rate * dw\n",
        "      self.bias = self.bias - self.learning_rate * db\n",
        "\n",
        "\n",
        "  def predict(self, X):\n",
        "    linear_predictions = np.dot(X, self.weights) + self.bias\n",
        "    y_predicted = Sigmoidfunction(linear_predictions)\n",
        "    final_predictions = [0 if y<= 0.5 else 1 for y in y_predicted]\n",
        "    return final_predictions\n",
        "\n",
        "\n"
      ]
    },
    {
      "cell_type": "code",
      "source": [
        "#funkcja sprawdzająca jaka część przewidywanych wartości pokrywa się z danymi testowymi\n",
        "def accuracy(y_pred, y_test):\n",
        "  a = np.sum(y_pred == y_test)/len(y_test)\n",
        "  print(\"Dokladnosc klasyfikatora wynosi: \", a)\n"
      ],
      "metadata": {
        "id": "0aq2uBCXEuk-"
      },
      "execution_count": null,
      "outputs": []
    },
    {
      "cell_type": "code",
      "source": [
        "#Implementacja treningu modelu\n",
        "from sklearn.model_selection import train_test_split\n",
        "from sklearn import datasets\n",
        "import matplotlib.pyplot as plt\n",
        "\n",
        "data = datasets.load_breast_cancer()\n",
        "X, y = data.data, data.target\n",
        "X_train, X_test, y_train, y_test = train_test_split(X,y,test_size=0.2, random_state = 1234)\n",
        "\n",
        "classifier = LogisticRegression(learning_rate=0.0001)\n",
        "classifier.fit(X_train, y_train)\n",
        "results = classifier.predict(X_test)\n",
        "\n",
        "a = accuracy(results, y_test)\n",
        "\n"
      ],
      "metadata": {
        "colab": {
          "base_uri": "https://localhost:8080/"
        },
        "id": "lRnoK6XzDwWs",
        "outputId": "e33f4de9-1f6e-4729-f599-eeef80b9e134"
      },
      "execution_count": null,
      "outputs": [
        {
          "output_type": "stream",
          "name": "stdout",
          "text": [
            "Dokladnosc klasyfikatora wynosi:  0.9298245614035088\n"
          ]
        }
      ]
    },
    {
      "cell_type": "code",
      "source": [
        "#Wyswietlanie wykresu\n",
        "cmap = plt.get_cmap('viridis')\n",
        "fig = plt.figure(figsize = (8,6))\n",
        "#plt.scatter(X[:,0],y,color='black', marker = 'o', s=30)\n",
        "m1 = plt.scatter(X_train[:,0], y_train, color = cmap(0.9), s=10)\n",
        "m2 = plt.scatter(X_test[:,0], y_test, color=cmap(0.5), s=10)\n",
        "plt.show()"
      ],
      "metadata": {
        "colab": {
          "base_uri": "https://localhost:8080/",
          "height": 522
        },
        "id": "D5J60jo3IZcf",
        "outputId": "70e7acaa-39ac-4512-a5a2-20f0f551e396"
      },
      "execution_count": null,
      "outputs": [
        {
          "output_type": "display_data",
          "data": {
            "text/plain": [
              "<Figure size 800x600 with 1 Axes>"
            ],
            "image/png": "[encoded data removed]"
          },
          "metadata": {}
        }
      ]
    },
    {
      "cell_type": "code",
      "source": [],
      "metadata": {
        "id": "u-6T6WgiK7U9"
      },
      "execution_count": null,
      "outputs": []
    }
  ]
}